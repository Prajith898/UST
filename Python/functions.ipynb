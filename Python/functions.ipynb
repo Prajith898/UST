{
 "cells": [
  {
   "cell_type": "code",
   "execution_count": 2,
   "id": "77ab3702",
   "metadata": {},
   "outputs": [
    {
     "name": "stdout",
     "output_type": "stream",
     "text": [
      "1000\n"
     ]
    }
   ],
   "source": [
    "var1 = 1000#Global variable\n",
    "def myfunc():\n",
    "    print(var1)\n",
    "print(var1)\n",
    "myfunc()"
   ]
  },
  {
   "cell_type": "code",
   "execution_count": 3,
   "id": "372f573f",
   "metadata": {},
   "outputs": [
    {
     "name": "stdout",
     "output_type": "stream",
     "text": [
      "100\n"
     ]
    },
    {
     "ename": "NameError",
     "evalue": "name 'var2' is not defined",
     "output_type": "error",
     "traceback": [
      "\u001b[1;31m---------------------------------------------------------------------------\u001b[0m",
      "\u001b[1;31mNameError\u001b[0m                                 Traceback (most recent call last)",
      "Input \u001b[1;32mIn [3]\u001b[0m, in \u001b[0;36m<cell line: 7>\u001b[1;34m()\u001b[0m\n\u001b[0;32m      5\u001b[0m     \u001b[38;5;28mprint\u001b[39m(var2)\n\u001b[0;32m      6\u001b[0m myfunc2()\n\u001b[1;32m----> 7\u001b[0m \u001b[43mmyfunc3\u001b[49m\u001b[43m(\u001b[49m\u001b[43m)\u001b[49m\n",
      "Input \u001b[1;32mIn [3]\u001b[0m, in \u001b[0;36mmyfunc3\u001b[1;34m()\u001b[0m\n\u001b[0;32m      4\u001b[0m \u001b[38;5;28;01mdef\u001b[39;00m \u001b[38;5;21mmyfunc3\u001b[39m():\n\u001b[1;32m----> 5\u001b[0m     \u001b[38;5;28mprint\u001b[39m(\u001b[43mvar2\u001b[49m)\n",
      "\u001b[1;31mNameError\u001b[0m: name 'var2' is not defined"
     ]
    }
   ],
   "source": [
    "def myfunc2():\n",
    "    var2=100 #local variable\n",
    "    print(var2)\n",
    "def myfunc3():\n",
    "    print(var2)#this will throw error because of var2 has a local scope\n",
    "myfunc2()\n",
    "myfunc3()"
   ]
  },
  {
   "cell_type": "code",
   "execution_count": 4,
   "id": "00043a01",
   "metadata": {},
   "outputs": [
    {
     "ename": "UnboundLocalError",
     "evalue": "local variable 'var1' referenced before assignment",
     "output_type": "error",
     "traceback": [
      "\u001b[1;31m---------------------------------------------------------------------------\u001b[0m",
      "\u001b[1;31mUnboundLocalError\u001b[0m                         Traceback (most recent call last)",
      "Input \u001b[1;32mIn [4]\u001b[0m, in \u001b[0;36m<cell line: 5>\u001b[1;34m()\u001b[0m\n\u001b[0;32m      3\u001b[0m     var1\u001b[38;5;241m=\u001b[39mvar1\u001b[38;5;241m+\u001b[39m\u001b[38;5;241m10\u001b[39m\u001b[38;5;66;03m#local variable scope 'var1' referenced before assignment\u001b[39;00m\n\u001b[0;32m      4\u001b[0m     \u001b[38;5;28mprint\u001b[39m(var1)\n\u001b[1;32m----> 5\u001b[0m \u001b[43mmyfunc\u001b[49m\u001b[43m(\u001b[49m\u001b[43m)\u001b[49m\n\u001b[0;32m      6\u001b[0m \u001b[38;5;28mprint\u001b[39m(var1\u001b[38;5;241m+\u001b[39m\u001b[38;5;241m100\u001b[39m)\n",
      "Input \u001b[1;32mIn [4]\u001b[0m, in \u001b[0;36mmyfunc\u001b[1;34m()\u001b[0m\n\u001b[0;32m      2\u001b[0m \u001b[38;5;28;01mdef\u001b[39;00m \u001b[38;5;21mmyfunc\u001b[39m():\n\u001b[1;32m----> 3\u001b[0m     var1\u001b[38;5;241m=\u001b[39m\u001b[43mvar1\u001b[49m\u001b[38;5;241m+\u001b[39m\u001b[38;5;241m10\u001b[39m\u001b[38;5;66;03m#local variable scope 'var1' referenced before assignment\u001b[39;00m\n\u001b[0;32m      4\u001b[0m     \u001b[38;5;28mprint\u001b[39m(var1)\n",
      "\u001b[1;31mUnboundLocalError\u001b[0m: local variable 'var1' referenced before assignment"
     ]
    }
   ],
   "source": [
    "var1=100\n",
    "def myfunc():\n",
    "    var1=var1+10#local variable scope 'var1' referenced before assignment\n",
    "    print(var1)\n",
    "myfunc()\n",
    "print(var1+100)"
   ]
  },
  {
   "cell_type": "code",
   "execution_count": null,
   "id": "5bbbc563",
   "metadata": {},
   "outputs": [],
   "source": [
    "var1=100 #variable with global scope\n",
    "def myfunc():\n",
    "    var1=90\n",
    "    return var1 #variable with local scope"
   ]
  },
  {
   "cell_type": "code",
   "execution_count": 5,
   "id": "eae345af",
   "metadata": {},
   "outputs": [
    {
     "name": "stdout",
     "output_type": "stream",
     "text": [
      "60\n"
     ]
    }
   ],
   "source": [
    "def summation(a,b,c):\n",
    "    return a+b+c\n",
    "print(summation(10,20,30))"
   ]
  },
  {
   "cell_type": "code",
   "execution_count": 6,
   "id": "c6fdf525",
   "metadata": {},
   "outputs": [
    {
     "ename": "TypeError",
     "evalue": "summation() takes 3 positional arguments but 4 were given",
     "output_type": "error",
     "traceback": [
      "\u001b[1;31m---------------------------------------------------------------------------\u001b[0m",
      "\u001b[1;31mTypeError\u001b[0m                                 Traceback (most recent call last)",
      "Input \u001b[1;32mIn [6]\u001b[0m, in \u001b[0;36m<cell line: 1>\u001b[1;34m()\u001b[0m\n\u001b[1;32m----> 1\u001b[0m \u001b[38;5;28mprint\u001b[39m(\u001b[43msummation\u001b[49m\u001b[43m(\u001b[49m\u001b[38;5;241;43m10\u001b[39;49m\u001b[43m,\u001b[49m\u001b[38;5;241;43m20\u001b[39;49m\u001b[43m,\u001b[49m\u001b[38;5;241;43m30\u001b[39;49m\u001b[43m,\u001b[49m\u001b[38;5;241;43m40\u001b[39;49m\u001b[43m)\u001b[49m)\n",
      "\u001b[1;31mTypeError\u001b[0m: summation() takes 3 positional arguments but 4 were given"
     ]
    }
   ],
   "source": [
    "print(summation(10,20,30,40))#creates TypeError: summation() takes 3 positional arguments but 4 were given"
   ]
  },
  {
   "cell_type": "code",
   "execution_count": 7,
   "id": "709b3ece",
   "metadata": {},
   "outputs": [
    {
     "name": "stdout",
     "output_type": "stream",
     "text": [
      "21\n",
      "41\n",
      "189\n",
      "270\n"
     ]
    }
   ],
   "source": [
    "def summation(*args):\n",
    "    return sum(args)\n",
    "\n",
    "print(summation(10,11))\n",
    "print(summation(10,15,16)) #args will take dynamic arguments list\n",
    "print(summation(39,40,50,60))\n",
    "print(summation(20,30,40,50,60,70))"
   ]
  },
  {
   "cell_type": "code",
   "execution_count": 12,
   "id": "1c7c6841",
   "metadata": {},
   "outputs": [
    {
     "name": "stdout",
     "output_type": "stream",
     "text": [
      "360\n",
      "360\n"
     ]
    }
   ],
   "source": [
    "def summation(*args):\n",
    "    return sum(args)\n",
    "list_1=[10,20,30,40,50,60,70,80]\n",
    "print(summation(*list_1))\n",
    "tuples=(10,20,30,40,50,60,70,80)\n",
    "print(summation(*tuples))"
   ]
  },
  {
   "cell_type": "code",
   "execution_count": 9,
   "id": "825b462f",
   "metadata": {},
   "outputs": [],
   "source": [
    "####Program that takes multilpe lists/tuples and return the sums"
   ]
  },
  {
   "cell_type": "code",
   "execution_count": 10,
   "id": "94a38c7e",
   "metadata": {},
   "outputs": [
    {
     "name": "stdout",
     "output_type": "stream",
     "text": [
      "461\n"
     ]
    }
   ],
   "source": [
    "list_1=[10,20,30,40,50,60,70,80]\n",
    "list_2=[1,2,3,4,5,6,7,8]\n",
    "list_3=[11,13,12,14,15]\n",
    "print(summation(*list_1,*list_2,*list_3)) #All lists are unpacked and each items are added"
   ]
  },
  {
   "cell_type": "markdown",
   "id": "84cb25d6",
   "metadata": {},
   "source": [
    "#### 2.Program to print keys with value."
   ]
  },
  {
   "cell_type": "code",
   "execution_count": 19,
   "id": "4e872523",
   "metadata": {},
   "outputs": [
    {
     "name": "stdout",
     "output_type": "stream",
     "text": [
      "('Pooja', 45678, 'Chennai', 'English')\n"
     ]
    }
   ],
   "source": [
    "def UserDetails(*args):\n",
    "    print(args)\n",
    "UserDetails(\"Pooja\",45678,\"Chennai\",\"English\")"
   ]
  },
  {
   "cell_type": "code",
   "execution_count": 23,
   "id": "8b8e58d2",
   "metadata": {},
   "outputs": [
    {
     "name": "stdout",
     "output_type": "stream",
     "text": [
      "{'Name': 'Pooja', 'ID': 45678, 'Place': 'Chennai', 'Dept': 'English'}\n"
     ]
    }
   ],
   "source": [
    "def UserDetails(**kwargs):\n",
    "    print(kwargs)\n",
    "UserDetails(Name =\"Pooja\",ID=45678,Place=\"Chennai\",Dept=\"English\")"
   ]
  },
  {
   "cell_type": "code",
   "execution_count": 25,
   "id": "1120afb5",
   "metadata": {},
   "outputs": [
    {
     "name": "stdout",
     "output_type": "stream",
     "text": [
      "Name:Pooja\n",
      "ID:45678\n",
      "Place:Chennai\n",
      "Department:English\n"
     ]
    }
   ],
   "source": [
    "def UserDetails(**kwargs):\n",
    "    for key,values in kwargs.items():\n",
    "        print(\"{}:{}\".format(key,values))\n",
    "UserDetails(Name =\"Pooja\",ID=45678,Place=\"Chennai\",Department=\"English\")"
   ]
  },
  {
   "cell_type": "code",
   "execution_count": 26,
   "id": "cbb2f1ad",
   "metadata": {},
   "outputs": [],
   "source": [
    "#### Program to print user details using *args and **kwargs"
   ]
  },
  {
   "cell_type": "code",
   "execution_count": 41,
   "id": "e9b14cae",
   "metadata": {},
   "outputs": [
    {
     "name": "stdout",
     "output_type": "stream",
     "text": [
      "Licnese No : 787687678\n",
      "Name : Arif Ahmed\n",
      "phone no : 9988776655\n",
      "name:Arif\n",
      "Id:12245\n",
      "pin code:679123\n",
      "age:23\n",
      "country:23\n"
     ]
    }
   ],
   "source": [
    "def UserDetails(LicenseNo,*args,contact=0,**kwargs):\n",
    "    j=''\n",
    "    for i in args:\n",
    "        j=j+i\n",
    "    print('Licnese No :',LicenseNo) \n",
    "    print(\"Name :\",j)\n",
    "    print(\"phone no :\",contact)\n",
    "    for key,values in kwargs.items():\n",
    "        print(\"{}:{}\".format(key,values))\n",
    "name=['Arif',' ','Ahmed'] \n",
    "phone=9988776655\n",
    "license=787687678\n",
    "my_dict={'name':'Arif','Id':12245,'pin code':679123,'age':23,'country':23}\n",
    "UserDetails(license,*name,contact=phone,**my_dict)\n"
   ]
  },
  {
   "cell_type": "code",
   "execution_count": 34,
   "id": "f21ace2a",
   "metadata": {},
   "outputs": [
    {
     "name": "stdout",
     "output_type": "stream",
     "text": [
      "Licence No :  DLT23456\n",
      "Full Name:  Arya\n",
      "Phone Number:  7995673489\n",
      "Full Name:  Arya \n",
      "Phone Number:  7995673489\n",
      "Full Name:  Arya Appukutttan\n",
      "Phone Number:  7995673489\n",
      "Name : Arya\n",
      "ID : 34566\n",
      "Pincode : 11098\n",
      "Age : 24\n",
      "Country : India\n"
     ]
    }
   ],
   "source": [
    "def userdetails(licenceNo, *args, contact = 0, **kwargs):\n",
    "    print('Licence No : ' ,licenceNo)\n",
    "    \n",
    "    j = ''\n",
    "    for i in args:\n",
    "        j = j + i\n",
    "        print('Full Name: ', j)\n",
    "        print('Phone Number: ', contact)\n",
    "        \n",
    "    for key,val in kwargs.items():\n",
    "        print(\"{} : {}\".format(key,val))\n",
    "        \n",
    "name = ['Arya', ' ', 'Appukutttan']\n",
    "mydict = {'Name':'Arya', 'ID':34566, 'Pincode':11098, 'Age': 24, 'Country': 'India'}\n",
    "userdetails('DLT23456', *name, contact = 7995673489, **mydict)"
   ]
  },
  {
   "cell_type": "markdown",
   "id": "497f6d1b",
   "metadata": {},
   "source": [
    "#### Lambda, Filter, Map and Reduce\n",
    "\n",
    "Lambda:\n",
    "a lambda function is an anonymous function(function without name)\n",
    "Lambda function can have any number of arguments but only one expression.the expression is evaluated and returned\n",
    "we use lambda function when we require a nameless function for a\n",
    "short period of time\n",
    "syntax:lambda argument(s):expression\n",
    "\n",
    "eg. lambda arg1, arg2: arg1 + arg2\n"
   ]
  },
  {
   "cell_type": "code",
   "execution_count": 42,
   "id": "0c87d998",
   "metadata": {},
   "outputs": [
    {
     "name": "stdout",
     "output_type": "stream",
     "text": [
      "20\n"
     ]
    }
   ],
   "source": [
    "addition =lambda a:a+10 # this lambda function add 10 to the arguments\n",
    "print(addition(10))"
   ]
  },
  {
   "cell_type": "code",
   "execution_count": 43,
   "id": "f4f14612",
   "metadata": {},
   "outputs": [
    {
     "name": "stdout",
     "output_type": "stream",
     "text": [
      "150\n"
     ]
    }
   ],
   "source": [
    "product=lambda a,b:a*b\n",
    "print(product(10,15))"
   ]
  },
  {
   "cell_type": "code",
   "execution_count": 45,
   "id": "acc022f0",
   "metadata": {},
   "outputs": [
    {
     "name": "stdout",
     "output_type": "stream",
     "text": [
      "150\n"
     ]
    }
   ],
   "source": [
    "add=lambda *args:sum(args) #this function can take any number of variables\n",
    "print(add(10,20,30,40,50))"
   ]
  },
  {
   "cell_type": "code",
   "execution_count": 46,
   "id": "7f0df0e2",
   "metadata": {},
   "outputs": [
    {
     "name": "stdout",
     "output_type": "stream",
     "text": [
      "[1, 3, 5, 7]\n"
     ]
    }
   ],
   "source": [
    "list_1=[1,2,3,4,5,6,7]\n",
    "def odd(n):\n",
    "    if n%2==1:\n",
    "        return True\n",
    "    else:\n",
    "        return False\n",
    "oddnum=list(filter(odd,list_1))# this function filters list list_1 and return oddnum\n",
    "print(oddnum)"
   ]
  },
  {
   "cell_type": "code",
   "execution_count": 47,
   "id": "5a70bb52",
   "metadata": {},
   "outputs": [
    {
     "name": "stdout",
     "output_type": "stream",
     "text": [
      "[1, 3, 5, 7]\n"
     ]
    }
   ],
   "source": [
    "#creates the program using lambda function\n",
    "oddnum=list(filter(lambda num:num%2==1,list_1))\n",
    "print(oddnum)"
   ]
  },
  {
   "cell_type": "markdown",
   "id": "ed3669dd",
   "metadata": {},
   "source": [
    "#map "
   ]
  },
  {
   "cell_type": "code",
   "execution_count": 77,
   "id": "4a215571",
   "metadata": {},
   "outputs": [
    {
     "name": "stdout",
     "output_type": "stream",
     "text": [
      "[2, 6, 10, 14]\n"
     ]
    }
   ],
   "source": [
    "def twice(num):\n",
    "    return num*2\n",
    "doubles=list(map(twice,oddnum))\n",
    "print(doubles)"
   ]
  },
  {
   "cell_type": "code",
   "execution_count": 53,
   "id": "b92527d5",
   "metadata": {},
   "outputs": [
    {
     "name": "stdout",
     "output_type": "stream",
     "text": [
      "[2, 4, 6, 8, 10, 12, 14, 16, 18]\n"
     ]
    }
   ],
   "source": [
    "doubles=list(map(lambda n:n*2,(1,2,3,4,5,6,7,8,9)))\n",
    "print(doubles)"
   ]
  },
  {
   "cell_type": "code",
   "execution_count": 74,
   "id": "c775de92",
   "metadata": {},
   "outputs": [
    {
     "data": {
      "text/plain": [
       "90"
      ]
     },
     "execution_count": 74,
     "metadata": {},
     "output_type": "execute_result"
    }
   ],
   "source": [
    "from functools import reduce\n",
    "#reduce this function for aggregrate function\n",
    "def summation(a,b):\n",
    "    return a+b\n",
    "sum_all=reduce(summation,doubles)\n",
    "sum_all"
   ]
  },
  {
   "cell_type": "code",
   "execution_count": 63,
   "id": "a75201b0",
   "metadata": {},
   "outputs": [
    {
     "data": {
      "text/plain": [
       "90"
      ]
     },
     "execution_count": 63,
     "metadata": {},
     "output_type": "execute_result"
    }
   ],
   "source": [
    "sum_all=reduce(lambda a,b:a+b,doubles)\n",
    "sum_all"
   ]
  },
  {
   "cell_type": "code",
   "execution_count": 70,
   "id": "22312630",
   "metadata": {},
   "outputs": [
    {
     "data": {
      "text/plain": [
       "800"
      ]
     },
     "execution_count": 70,
     "metadata": {},
     "output_type": "execute_result"
    }
   ],
   "source": [
    "list_1=[1,2,3,4,5,6,7,8]\n",
    "sum1=reduce(lambda a,b:a+b,map(lambda n:n**3,list(filter(lambda num:num%2==0,list_1))))\n",
    "sum1"
   ]
  },
  {
   "cell_type": "code",
   "execution_count": 71,
   "id": "9c841737",
   "metadata": {},
   "outputs": [
    {
     "name": "stdout",
     "output_type": "stream",
     "text": [
      "13\n"
     ]
    }
   ],
   "source": [
    "#find minimum number in a list using lambda\n",
    "list_1=[23,13,78,90,23,15]\n",
    "min=reduce(lambda a,b:a if a<b else b,list_1)\n",
    "print(min)"
   ]
  },
  {
   "cell_type": "code",
   "execution_count": 72,
   "id": "b4b360a9",
   "metadata": {},
   "outputs": [
    {
     "name": "stdout",
     "output_type": "stream",
     "text": [
      "90\n"
     ]
    }
   ],
   "source": [
    "#to find maximum\n",
    "max=reduce(lambda a,b:a if a>b else b,list_1)\n",
    "print(max)"
   ]
  },
  {
   "cell_type": "markdown",
   "id": "da23dda0",
   "metadata": {},
   "source": [
    "####Frozen set\n",
    "frozenset() method: it creates an immutable set object from an iterate.It is a built-in python function.As it is set() hence it will follow properties of set object like we cannot have duplicate values in frozen set."
   ]
  },
  {
   "cell_type": "code",
   "execution_count": 82,
   "id": "8db3586a",
   "metadata": {},
   "outputs": [
    {
     "data": {
      "text/plain": [
       "frozenset"
      ]
     },
     "execution_count": 82,
     "metadata": {},
     "output_type": "execute_result"
    }
   ],
   "source": [
    "list_1=['Apple','Banana','Cupcakes','Butterscotch']\n",
    "fset=frozenset(list_1)\n",
    "type(fset)"
   ]
  },
  {
   "cell_type": "code",
   "execution_count": 83,
   "id": "f000f1f8",
   "metadata": {},
   "outputs": [
    {
     "ename": "AttributeError",
     "evalue": "'frozenset' object has no attribute 'add'",
     "output_type": "error",
     "traceback": [
      "\u001b[1;31m---------------------------------------------------------------------------\u001b[0m",
      "\u001b[1;31mAttributeError\u001b[0m                            Traceback (most recent call last)",
      "Input \u001b[1;32mIn [83]\u001b[0m, in \u001b[0;36m<cell line: 1>\u001b[1;34m()\u001b[0m\n\u001b[1;32m----> 1\u001b[0m \u001b[43mfset\u001b[49m\u001b[38;5;241;43m.\u001b[39;49m\u001b[43madd\u001b[49m(\u001b[38;5;124m\"\u001b[39m\u001b[38;5;124meclairs\u001b[39m\u001b[38;5;124m\"\u001b[39m)\n",
      "\u001b[1;31mAttributeError\u001b[0m: 'frozenset' object has no attribute 'add'"
     ]
    }
   ],
   "source": [
    "fset.add(\"eclairs\")"
   ]
  },
  {
   "cell_type": "code",
   "execution_count": 84,
   "id": "13ca2bbf",
   "metadata": {},
   "outputs": [
    {
     "name": "stdout",
     "output_type": "stream",
     "text": [
      "frozenset({'gender', 'salary', 'name'})\n"
     ]
    }
   ],
   "source": [
    "#random dictionary\n",
    "person={'name':'Arpita','salary':100000,'gender':\"female\"}\n",
    "fset=frozenset(person)\n",
    "print(fset)"
   ]
  },
  {
   "cell_type": "code",
   "execution_count": 87,
   "id": "aa4ebe16",
   "metadata": {},
   "outputs": [
    {
     "name": "stdout",
     "output_type": "stream",
     "text": [
      "frozenset({70, 40, 10, 80, 50, 20, 60, 30})\n",
      "frozenset({50})\n",
      "frozenset({40, 10, 20, 30})\n",
      "frozenset({70, 40, 10, 80, 20, 60, 30})\n"
     ]
    }
   ],
   "source": [
    "#frozenset operations\n",
    "\n",
    "a=frozenset([10,20,30,40,50])\n",
    "b=frozenset([50,60,70,80])\n",
    "\n",
    "#union\n",
    "print(a.union(b))\n",
    "\n",
    "#intersection\n",
    "print(a.intersection(b))\n",
    "\n",
    "#difference\n",
    "print(a.difference(b))\n",
    "\n",
    "#symmetric difference\n",
    "print(a.symmetric_difference(b))"
   ]
  },
  {
   "cell_type": "markdown",
   "id": "7259fc31",
   "metadata": {},
   "source": [
    "#### list Comprehension\n",
    "list comprehension is a way to define and create a new list using a single statements."
   ]
  },
  {
   "cell_type": "code",
   "execution_count": 91,
   "id": "b1d8d491",
   "metadata": {},
   "outputs": [
    {
     "data": {
      "text/plain": [
       "[4, 16, 36, 64, 100]"
      ]
     },
     "execution_count": 91,
     "metadata": {},
     "output_type": "execute_result"
    }
   ],
   "source": [
    "list_1=[x**2 for x in range (1,11) if x%2==0]\n",
    "list_1"
   ]
  },
  {
   "cell_type": "code",
   "execution_count": 90,
   "id": "79241250",
   "metadata": {},
   "outputs": [
    {
     "data": {
      "text/plain": [
       "[4, 16, 36, 64, 100]"
      ]
     },
     "execution_count": 90,
     "metadata": {},
     "output_type": "execute_result"
    }
   ],
   "source": [
    "list2=[]\n",
    "for i in range (1,11):\n",
    "    if i%2==0:\n",
    "        list2.append(i**2)\n",
    "list2       "
   ]
  },
  {
   "cell_type": "code",
   "execution_count": 92,
   "id": "a461feef",
   "metadata": {},
   "outputs": [],
   "source": [
    "#### More excercises"
   ]
  },
  {
   "cell_type": "code",
   "execution_count": 98,
   "id": "393812f9",
   "metadata": {},
   "outputs": [
    {
     "name": "stdout",
     "output_type": "stream",
     "text": [
      "['PYTHON', 'MATH', 'NUMPY', 'PANDAS', 'DATETIME', 'SYS']\n"
     ]
    }
   ],
   "source": [
    "python_lbs=['python','math','numpy','pandas','datetime','sys']\n",
    "upper_python_lbs=list(map(lambda i:i.upper(),python_lbs))\n",
    "print(upper_python_lbs)"
   ]
  },
  {
   "cell_type": "code",
   "execution_count": 109,
   "id": "3f1173f7",
   "metadata": {},
   "outputs": [
    {
     "name": "stdout",
     "output_type": "stream",
     "text": [
      "['PYTHON', 'MATH', 'NUMPY', 'PANDAS', 'DATETIME', 'SYS']\n"
     ]
    }
   ],
   "source": [
    "lis=[]\n",
    "for i in python_lbs:\n",
    "    lis.append(i.upper())\n",
    "print(lis)"
   ]
  },
  {
   "cell_type": "markdown",
   "id": "e515752e",
   "metadata": {},
   "source": [
    "#### Program to check palindrome or not"
   ]
  },
  {
   "cell_type": "code",
   "execution_count": 104,
   "id": "0433de49",
   "metadata": {},
   "outputs": [
    {
     "name": "stdout",
     "output_type": "stream",
     "text": [
      "['php', 'madam', 'salas']\n"
     ]
    }
   ],
   "source": [
    "#palindrome or not\n",
    "mylist=['php','madam','python','numpy','class','rewire','salas']\n",
    "l=[]\n",
    "for i in mylist:\n",
    "    if i==i[::-1]:\n",
    "        l.append(i)\n",
    "print(l)"
   ]
  },
  {
   "cell_type": "code",
   "execution_count": 111,
   "id": "d0cfd0d8",
   "metadata": {},
   "outputs": [
    {
     "name": "stdout",
     "output_type": "stream",
     "text": [
      "['php', 'madam', 'salas']\n"
     ]
    }
   ],
   "source": [
    "l2=list(filter(lambda i:True if i==i[::-1] else False,mylist))\n",
    "print(l2)"
   ]
  },
  {
   "cell_type": "code",
   "execution_count": 113,
   "id": "cd9084be",
   "metadata": {},
   "outputs": [
    {
     "data": {
      "text/plain": [
       "['php', 'madam', 'salas']"
      ]
     },
     "execution_count": 113,
     "metadata": {},
     "output_type": "execute_result"
    }
   ],
   "source": [
    "mylist = ['php','madam','python','numpy','class','rewire','salas']\n",
    "rev_mylist = list(filter(lambda word : word == word[::-1], mylist))\n",
    "rev_mylist"
   ]
  },
  {
   "cell_type": "code",
   "execution_count": 123,
   "id": "7460b03e",
   "metadata": {},
   "outputs": [
    {
     "name": "stdout",
     "output_type": "stream",
     "text": [
      "twinkle twinkle little star\n",
      "how i wonder what you are\n",
      "up the world above the sky\n",
      "found\n"
     ]
    }
   ],
   "source": [
    "#write program to find the wherther the text contain the word star\n",
    "\n",
    "file=open(\"sample.txt\",'r')\n",
    "text=file.read()\n",
    "print(text)\n",
    "if 'star'in text:\n",
    "    print('found')\n",
    "else:\n",
    "    print('not found')\n",
    "file.close()\n"
   ]
  },
  {
   "cell_type": "markdown",
   "id": "beb53640",
   "metadata": {},
   "source": [
    "#### 7. Create game for snake water gun using python"
   ]
  },
  {
   "cell_type": "code",
   "execution_count": null,
   "id": "31718f2d",
   "metadata": {},
   "outputs": [],
   "source": []
  }
 ],
 "metadata": {
  "kernelspec": {
   "display_name": "Python 3 (ipykernel)",
   "language": "python",
   "name": "python3"
  },
  "language_info": {
   "codemirror_mode": {
    "name": "ipython",
    "version": 3
   },
   "file_extension": ".py",
   "mimetype": "text/x-python",
   "name": "python",
   "nbconvert_exporter": "python",
   "pygments_lexer": "ipython3",
   "version": "3.9.12"
  }
 },
 "nbformat": 4,
 "nbformat_minor": 5
}
