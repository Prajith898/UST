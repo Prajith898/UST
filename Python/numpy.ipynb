{
 "cells": [
  {
   "cell_type": "markdown",
   "id": "2f9e2184",
   "metadata": {},
   "source": [
    "#### Numpy"
   ]
  },
  {
   "cell_type": "markdown",
   "id": "ff6a3ca1",
   "metadata": {},
   "source": [
    "*Numpy is core data science library for mathematical/scientifiacal computuing in python.It provides a high performance \n",
    "multi-dimensonal array object and for working with arrays.\n",
    "\n",
    "*Numpy provides fast built-in object (nd-array)"
   ]
  },
  {
   "cell_type": "code",
   "execution_count": 1,
   "id": "b711df50",
   "metadata": {},
   "outputs": [
    {
     "data": {
      "text/plain": [
       "array([0, 1, 2, 3, 4, 5, 6, 7, 8])"
      ]
     },
     "metadata": {},
     "output_type": "display_data"
    },
    {
     "name": "stdout",
     "output_type": "stream",
     "text": [
      "<class 'numpy.ndarray'>\n"
     ]
    }
   ],
   "source": [
    "import numpy as np\n",
    "arr=np.array([0,1,2,3,4,5,6,7,8]) #create a rank 1 numpy array\n",
    "display(arr) #to display array\n",
    "print(type(arr))\n",
    "#<class 'numpy.array'>"
   ]
  },
  {
   "cell_type": "code",
   "execution_count": 2,
   "id": "a0a1d311",
   "metadata": {},
   "outputs": [
    {
     "data": {
      "text/plain": [
       "dtype('int32')"
      ]
     },
     "execution_count": 2,
     "metadata": {},
     "output_type": "execute_result"
    }
   ],
   "source": [
    "arr.dtype"
   ]
  },
  {
   "cell_type": "code",
   "execution_count": 3,
   "id": "ddb30138",
   "metadata": {},
   "outputs": [
    {
     "data": {
      "text/plain": [
       "4"
      ]
     },
     "execution_count": 3,
     "metadata": {},
     "output_type": "execute_result"
    }
   ],
   "source": [
    "arr.itemsize"
   ]
  },
  {
   "cell_type": "code",
   "execution_count": 4,
   "id": "1ba683c4",
   "metadata": {},
   "outputs": [
    {
     "data": {
      "text/plain": [
       "(9,)"
      ]
     },
     "execution_count": 4,
     "metadata": {},
     "output_type": "execute_result"
    }
   ],
   "source": [
    "arr.shape"
   ]
  },
  {
   "cell_type": "code",
   "execution_count": 5,
   "id": "77ce0363",
   "metadata": {},
   "outputs": [
    {
     "data": {
      "text/plain": [
       "36"
      ]
     },
     "execution_count": 5,
     "metadata": {},
     "output_type": "execute_result"
    }
   ],
   "source": [
    "arr.nbytes"
   ]
  },
  {
   "cell_type": "markdown",
   "id": "f5386afe",
   "metadata": {},
   "source": [
    "#### Array operations\n",
    "\n",
    "simple math operations"
   ]
  },
  {
   "cell_type": "code",
   "execution_count": 6,
   "id": "70f54f54",
   "metadata": {},
   "outputs": [
    {
     "name": "stdout",
     "output_type": "stream",
     "text": [
      "[11 22 33 44 55 66 77]\n",
      "[ 9 18 27 36 45 54 63]\n"
     ]
    }
   ],
   "source": [
    "a=np.array([10,20,30,40,50,60,70])\n",
    "b=np.array([1,2,3,4,5,6,7])\n",
    "\n",
    "#element addition or substraction\n",
    "print(a+b)\n",
    "print(a-b)"
   ]
  },
  {
   "cell_type": "code",
   "execution_count": 7,
   "id": "83831a1c",
   "metadata": {},
   "outputs": [
    {
     "data": {
      "text/plain": [
       "array([0, 1, 2, 3, 4, 5, 6, 7, 8, 9])"
      ]
     },
     "execution_count": 7,
     "metadata": {},
     "output_type": "execute_result"
    }
   ],
   "source": [
    "#Return evenly space values within give intervals\n",
    "#create array from 0 to 10\n",
    "#arrange(start,stop,step size)\n",
    "np.arange(0,10,1)"
   ]
  },
  {
   "cell_type": "code",
   "execution_count": 8,
   "id": "c2c0f295",
   "metadata": {},
   "outputs": [
    {
     "data": {
      "text/plain": [
       "array([ 1,  3,  5,  7,  9, 11, 13, 15])"
      ]
     },
     "execution_count": 8,
     "metadata": {},
     "output_type": "execute_result"
    }
   ],
   "source": [
    "#start,stop,step\n",
    "np.arange(1,16,2)"
   ]
  },
  {
   "cell_type": "markdown",
   "id": "066808a3",
   "metadata": {},
   "source": [
    "#1.Why numpy array are better than list"
   ]
  },
  {
   "cell_type": "code",
   "execution_count": 9,
   "id": "9434e63f",
   "metadata": {},
   "outputs": [
    {
     "name": "stdout",
     "output_type": "stream",
     "text": [
      "Numpy in this example is : 74.65371024734982 Faster\n"
     ]
    }
   ],
   "source": [
    "import time\n",
    "import numpy as np\n",
    "array_size = 1000000\n",
    "def python_version():   \n",
    "    #start time\n",
    "    t1 = time.time()\n",
    "    x = range(array_size)\n",
    "    y = range(array_size)\n",
    "    \n",
    "    #element by element addition\n",
    "    z = [ x[i] + y[i] for i in range(len(x))]\n",
    "    return time.time() - t1   #time.time return current time stmap value\n",
    "def numpy_version():\n",
    "    #start time\n",
    "    t1 = time.time()\n",
    "    x = np.arange(array_size)\n",
    "    y = np.arange(array_size)\n",
    "    z = x + y\n",
    "    return time.time() - t1\n",
    "t1 = python_version()\n",
    "t2 = numpy_version()\n",
    "print(\"Numpy in this example is : \" +str(t1/t2) + \" Faster\")"
   ]
  },
  {
   "cell_type": "code",
   "execution_count": 10,
   "id": "e430f58e",
   "metadata": {},
   "outputs": [
    {
     "ename": "TypeError",
     "evalue": "unsupported operand type(s) for /: 'list' and 'list'",
     "output_type": "error",
     "traceback": [
      "\u001b[1;31m---------------------------------------------------------------------------\u001b[0m",
      "\u001b[1;31mTypeError\u001b[0m                                 Traceback (most recent call last)",
      "Input \u001b[1;32mIn [10]\u001b[0m, in \u001b[0;36m<cell line: 3>\u001b[1;34m()\u001b[0m\n\u001b[0;32m      1\u001b[0m distance_list\u001b[38;5;241m=\u001b[39m[\u001b[38;5;241m10\u001b[39m,\u001b[38;5;241m15\u001b[39m,\u001b[38;5;241m18\u001b[39m,\u001b[38;5;241m19\u001b[39m,\u001b[38;5;241m21\u001b[39m,\u001b[38;5;241m23\u001b[39m]\n\u001b[0;32m      2\u001b[0m time_list\u001b[38;5;241m=\u001b[39m[\u001b[38;5;241m.20\u001b[39m,\u001b[38;5;241m.43\u001b[39m,\u001b[38;5;241m.55\u001b[39m,\u001b[38;5;241m1.1\u001b[39m,\u001b[38;5;241m.59\u001b[39m,\u001b[38;5;241m1.2\u001b[39m]\n\u001b[1;32m----> 3\u001b[0m speed\u001b[38;5;241m=\u001b[39m\u001b[43mdistance_list\u001b[49m\u001b[38;5;241;43m/\u001b[39;49m\u001b[43mtime_list\u001b[49m\n\u001b[0;32m      4\u001b[0m speed\n",
      "\u001b[1;31mTypeError\u001b[0m: unsupported operand type(s) for /: 'list' and 'list'"
     ]
    }
   ],
   "source": [
    "distance_list=[10,15,18,19,21,23]\n",
    "time_list=[.20,.43,.55,1.1,.59,1.2]\n",
    "speed=distance_list/time_list\n",
    "speed"
   ]
  },
  {
   "cell_type": "code",
   "execution_count": 12,
   "id": "0b4356f4",
   "metadata": {},
   "outputs": [
    {
     "data": {
      "text/plain": [
       "array([50.        , 34.88372093, 32.72727273, 17.27272727, 35.59322034,\n",
       "       19.16666667])"
      ]
     },
     "execution_count": 12,
     "metadata": {},
     "output_type": "execute_result"
    }
   ],
   "source": [
    "distance_arr=np.array([10,15,18,19,21,23])\n",
    "time_arr=np.array([.20,.43,.55,1.1,.59,1.2])\n",
    "speed_arr=distance_arr/time_arr\n",
    "speed_arr"
   ]
  },
  {
   "cell_type": "markdown",
   "id": "b4a25a03",
   "metadata": {},
   "source": [
    "#### Types of numpy array"
   ]
  },
  {
   "cell_type": "code",
   "execution_count": 13,
   "id": "6f1b81be",
   "metadata": {},
   "outputs": [],
   "source": [
    "#create a 1-D array\n",
    "arr_1=np.array([10,15,18,19,21,25])"
   ]
  },
  {
   "cell_type": "code",
   "execution_count": 22,
   "id": "2c2e66f5",
   "metadata": {},
   "outputs": [
    {
     "data": {
      "text/plain": [
       "array([[ 1,  5,  8,  9, 11, 18],\n",
       "       [10, 15, 18, 19, 21, 25]])"
      ]
     },
     "execution_count": 22,
     "metadata": {},
     "output_type": "execute_result"
    }
   ],
   "source": [
    "#create a  2-D array\n",
    "arr_2=np.array([[1,5,8,9,11,18],[10,15,18,19,21,25]])\n",
    "arr_2"
   ]
  },
  {
   "cell_type": "code",
   "execution_count": 23,
   "id": "fb68595a",
   "metadata": {},
   "outputs": [
    {
     "data": {
      "text/plain": [
       "(2, 6)"
      ]
     },
     "execution_count": 23,
     "metadata": {},
     "output_type": "execute_result"
    }
   ],
   "source": [
    "arr_2.shape"
   ]
  },
  {
   "cell_type": "code",
   "execution_count": 24,
   "id": "8f31264e",
   "metadata": {},
   "outputs": [
    {
     "data": {
      "text/plain": [
       "dtype('int32')"
      ]
     },
     "execution_count": 24,
     "metadata": {},
     "output_type": "execute_result"
    }
   ],
   "source": [
    "arr_2.dtype"
   ]
  },
  {
   "cell_type": "code",
   "execution_count": 25,
   "id": "e84389f7",
   "metadata": {},
   "outputs": [
    {
     "data": {
      "text/plain": [
       "2"
      ]
     },
     "execution_count": 25,
     "metadata": {},
     "output_type": "execute_result"
    }
   ],
   "source": [
    "arr_2.ndim"
   ]
  },
  {
   "cell_type": "code",
   "execution_count": 27,
   "id": "6da4339a",
   "metadata": {},
   "outputs": [
    {
     "data": {
      "text/plain": [
       "21"
      ]
     },
     "execution_count": 27,
     "metadata": {},
     "output_type": "execute_result"
    }
   ],
   "source": [
    "arr_2[1][4]"
   ]
  },
  {
   "cell_type": "code",
   "execution_count": 28,
   "id": "8b75c274",
   "metadata": {},
   "outputs": [
    {
     "data": {
      "text/plain": [
       "21"
      ]
     },
     "execution_count": 28,
     "metadata": {},
     "output_type": "execute_result"
    }
   ],
   "source": [
    "arr_2[-1][-2]"
   ]
  },
  {
   "cell_type": "markdown",
   "id": "5111d4f5",
   "metadata": {},
   "source": [
    "#### 3 Dimensional arra"
   ]
  },
  {
   "cell_type": "code",
   "execution_count": 30,
   "id": "19b9edd6",
   "metadata": {},
   "outputs": [
    {
     "name": "stdout",
     "output_type": "stream",
     "text": [
      "[[[ 1  5  8  9 11 18]\n",
      "  [10 15 18 19 21 25]\n",
      "  [11 12 13 14 15 16]]\n",
      "\n",
      " [[ 1  5  8  9 11 18]\n",
      "  [10 15 18 19 21 25]\n",
      "  [11 12 13 14 15 16]]\n",
      "\n",
      " [[ 1  5  8  9 11 18]\n",
      "  [10 15 18 19 21 25]\n",
      "  [11 12 13 14 15 16]]]\n"
     ]
    }
   ],
   "source": [
    "arr_3=np.array([[[1,5,8,9,11,18],[10,15,18,19,21,25],[11,12,13,14,15,16]],\n",
    "               [[1,5,8,9,11,18],[10,15,18,19,21,25],[11,12,13,14,15,16]],\n",
    "              [[1,5,8,9,11,18],[10,15,18,19,21,25],[11,12,13,14,15,16]]])\n",
    "print(arr_3)"
   ]
  },
  {
   "cell_type": "code",
   "execution_count": 31,
   "id": "180d5d6c",
   "metadata": {},
   "outputs": [
    {
     "data": {
      "text/plain": [
       "(3, 3, 6)"
      ]
     },
     "execution_count": 31,
     "metadata": {},
     "output_type": "execute_result"
    }
   ],
   "source": [
    "arr_3.shape"
   ]
  },
  {
   "cell_type": "code",
   "execution_count": 32,
   "id": "03402936",
   "metadata": {},
   "outputs": [
    {
     "data": {
      "text/plain": [
       "dtype('int32')"
      ]
     },
     "execution_count": 32,
     "metadata": {},
     "output_type": "execute_result"
    }
   ],
   "source": [
    "arr_3.dtype"
   ]
  },
  {
   "cell_type": "code",
   "execution_count": 33,
   "id": "f1ac80fe",
   "metadata": {},
   "outputs": [
    {
     "data": {
      "text/plain": [
       "3"
      ]
     },
     "execution_count": 33,
     "metadata": {},
     "output_type": "execute_result"
    }
   ],
   "source": [
    "arr_3.ndim"
   ]
  },
  {
   "cell_type": "code",
   "execution_count": 34,
   "id": "a3d3bb66",
   "metadata": {},
   "outputs": [
    {
     "name": "stdout",
     "output_type": "stream",
     "text": [
      "15\n",
      "15\n"
     ]
    }
   ],
   "source": [
    "print(arr_3[1][2][4])\n",
    "print(arr_3[1,2,4])"
   ]
  },
  {
   "cell_type": "code",
   "execution_count": 35,
   "id": "079991a9",
   "metadata": {},
   "outputs": [
    {
     "data": {
      "text/plain": [
       "dtype('int32')"
      ]
     },
     "execution_count": 35,
     "metadata": {},
     "output_type": "execute_result"
    }
   ],
   "source": [
    "arr_4=np.array([11,23,34,45,56,67,78])\n",
    "arr_4.dtype"
   ]
  },
  {
   "cell_type": "code",
   "execution_count": 36,
   "id": "6fc4dd09",
   "metadata": {},
   "outputs": [
    {
     "name": "stdout",
     "output_type": "stream",
     "text": [
      "[11 14 34 45 56 67 78]\n"
     ]
    }
   ],
   "source": [
    "#assigning float to int32 array, it will truncate the decimal part\n",
    "arr_4[1]=14.5678\n",
    "print(arr_4)"
   ]
  },
  {
   "cell_type": "code",
   "execution_count": 39,
   "id": "02dbc7b5",
   "metadata": {},
   "outputs": [
    {
     "name": "stdout",
     "output_type": "stream",
     "text": [
      "[11.     14.5678 34.     45.     56.     67.     78.    ]\n"
     ]
    }
   ],
   "source": [
    "#change dtype of array to float\n",
    "arr_5=arr_4.astype('float32')\n",
    "arr_5[1]=14.5678\n",
    "print(arr_5)"
   ]
  },
  {
   "cell_type": "code",
   "execution_count": null,
   "id": "411941bc",
   "metadata": {},
   "outputs": [],
   "source": []
  }
 ],
 "metadata": {
  "kernelspec": {
   "display_name": "Python 3 (ipykernel)",
   "language": "python",
   "name": "python3"
  },
  "language_info": {
   "codemirror_mode": {
    "name": "ipython",
    "version": 3
   },
   "file_extension": ".py",
   "mimetype": "text/x-python",
   "name": "python",
   "nbconvert_exporter": "python",
   "pygments_lexer": "ipython3",
   "version": "3.9.12"
  }
 },
 "nbformat": 4,
 "nbformat_minor": 5
}
